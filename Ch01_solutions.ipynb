{
 "cells": [
  {
   "cell_type": "markdown",
   "metadata": {},
   "source": [
    "### 1. In the Scala REPL, type 3. followed by the Tab key. What methods can be applied?"
   ]
  },
  {
   "cell_type": "markdown",
   "metadata": {},
   "source": [
    "### 2. In the Scala REPL, compute the square root of 3, and then square that value. By how much does the result differ from 3? (Hint: The res variables are your friend.)"
   ]
  },
  {
   "cell_type": "code",
   "execution_count": 1,
   "metadata": {},
   "outputs": [
    {
     "data": {
      "text/plain": [
       "\u001b[32mimport \u001b[39m\u001b[36mscala.math.pow\n",
       "\u001b[39m\n",
       "\u001b[32mimport \u001b[39m\u001b[36mscala.math.sqrt\n",
       "\n",
       "\u001b[39m\n",
       "\u001b[36mres0_2\u001b[39m: \u001b[32mDouble\u001b[39m = \u001b[32m4.440892098500626E-16\u001b[39m"
      ]
     },
     "execution_count": 1,
     "metadata": {},
     "output_type": "execute_result"
    }
   ],
   "source": [
    "import scala.math.pow\n",
    "import scala.math.sqrt\n",
    "\n",
    "3 - pow(sqrt(3), 2)"
   ]
  },
  {
   "cell_type": "markdown",
   "metadata": {},
   "source": [
    "### 3. Are the res variables val or var ?"
   ]
  },
  {
   "cell_type": "markdown",
   "metadata": {},
   "source": [
    "It is a val. Uncomment the following line and try to execute it:"
   ]
  },
  {
   "cell_type": "code",
   "execution_count": 1,
   "metadata": {},
   "outputs": [],
   "source": [
    "// res0 = 3"
   ]
  },
  {
   "cell_type": "markdown",
   "metadata": {},
   "source": [
    "### 4. Scala lets you multiply a string with a number—try out \"crazy\" * 3 in the REPL. What does this operation do? Where can you find it in Scaladoc?"
   ]
  },
  {
   "cell_type": "code",
   "execution_count": 2,
   "metadata": {},
   "outputs": [
    {
     "data": {
      "text/plain": [
       "\u001b[36mres1\u001b[39m: \u001b[32mString\u001b[39m = \u001b[32m\"crazycrazycrazy\"\u001b[39m"
      ]
     },
     "execution_count": 2,
     "metadata": {},
     "output_type": "execute_result"
    }
   ],
   "source": [
    "\"crazy\" * 3"
   ]
  },
  {
   "cell_type": "markdown",
   "metadata": {},
   "source": [
    "You can find it at `StringOps`."
   ]
  },
  {
   "cell_type": "markdown",
   "metadata": {},
   "source": [
    "### 5. What does 10 max 2 mean? In which class is the max method defined?"
   ]
  },
  {
   "cell_type": "code",
   "execution_count": 3,
   "metadata": {},
   "outputs": [
    {
     "data": {
      "text/plain": [
       "\u001b[36mres2\u001b[39m: \u001b[32mInt\u001b[39m = \u001b[32m10\u001b[39m"
      ]
     },
     "execution_count": 3,
     "metadata": {},
     "output_type": "execute_result"
    }
   ],
   "source": [
    "10 max 2"
   ]
  },
  {
   "cell_type": "markdown",
   "metadata": {},
   "source": [
    "`10 max 2` means to find the max of (10, 2). \n",
    "It is defined in `RichInt`."
   ]
  },
  {
   "cell_type": "markdown",
   "metadata": {},
   "source": [
    "### 6. Using BigInt , compute 2^1024"
   ]
  },
  {
   "cell_type": "code",
   "execution_count": 4,
   "metadata": {},
   "outputs": [
    {
     "data": {
      "text/plain": [
       "\u001b[36mres3\u001b[39m: \u001b[32mBigInt\u001b[39m = 179769313486231590772930519078902473361797697894230657273430081157732675805500963132708477322407536021120113879871393357658789768814416622492847430639474124377767893424865485276302219601246094119453082952085005768838150682342462881473913110540827237163350510684586298239947245938479716304835356329624224137216"
      ]
     },
     "execution_count": 4,
     "metadata": {},
     "output_type": "execute_result"
    }
   ],
   "source": [
    "BigInt(2).pow(1024)"
   ]
  },
  {
   "cell_type": "markdown",
   "metadata": {},
   "source": [
    "### 7. What do you need to import so that you can get a random prime as probablePrime(100, Random) , without any qualifiers before probablePrime and Random ?"
   ]
  },
  {
   "cell_type": "code",
   "execution_count": 5,
   "metadata": {},
   "outputs": [
    {
     "data": {
      "text/plain": [
       "\u001b[32mimport \u001b[39m\u001b[36mscala.BigInt.probablePrime\n",
       "\u001b[39m\n",
       "\u001b[32mimport \u001b[39m\u001b[36mscala.util.Random\n",
       "\u001b[39m\n",
       "\u001b[36mres4_2\u001b[39m: \u001b[32mBigInt\u001b[39m = 8391821316606337593252653995903043192786349889851120062589348787655937185910490064129848363237161096822694564831677995724759846956766130886883631051703941498071815308901814272366721532735962595126008902884047553484638633356677028228909132214222756843854979495740347673931126195224716735999122343222209"
      ]
     },
     "execution_count": 5,
     "metadata": {},
     "output_type": "execute_result"
    }
   ],
   "source": [
    "import scala.BigInt.probablePrime\n",
    "import scala.util.Random\n",
    "probablePrime(1000, Random)"
   ]
  },
  {
   "cell_type": "markdown",
   "metadata": {},
   "source": [
    "### 8. One way to create random file or directory names is to produce a random BigInt and convert it to base 36, yielding a string such as \"qsnvbevtomcj38o06kul\" . Poke around Scaladoc to find a way of doing this in Scala."
   ]
  },
  {
   "cell_type": "code",
   "execution_count": 6,
   "metadata": {},
   "outputs": [
    {
     "data": {
      "text/plain": [
       "\u001b[36ma\u001b[39m: \u001b[32mBigInt\u001b[39m = 1144666125015119491867191465469\n",
       "\u001b[36mres5_1\u001b[39m: \u001b[32mString\u001b[39m = \u001b[32m\"32z6gvrcb7zcbnw2rxtp\"\u001b[39m"
      ]
     },
     "execution_count": 6,
     "metadata": {},
     "output_type": "execute_result"
    }
   ],
   "source": [
    "val a = probablePrime(100, Random)\n",
    "a.toString(36)"
   ]
  },
  {
   "cell_type": "markdown",
   "metadata": {},
   "source": [
    "### 9. How do you get the first character of a string in Scala? The last character?"
   ]
  },
  {
   "cell_type": "code",
   "execution_count": 7,
   "metadata": {},
   "outputs": [
    {
     "data": {
      "text/plain": [
       "\u001b[36ma\u001b[39m: \u001b[32mString\u001b[39m = \u001b[32m\"Hello\"\u001b[39m\n",
       "\u001b[36mres6_1\u001b[39m: \u001b[32mChar\u001b[39m = \u001b[32m'H'\u001b[39m\n",
       "\u001b[36mres6_2\u001b[39m: \u001b[32mChar\u001b[39m = \u001b[32m'o'\u001b[39m"
      ]
     },
     "execution_count": 7,
     "metadata": {},
     "output_type": "execute_result"
    }
   ],
   "source": [
    "val a = \"Hello\"\n",
    "a.head\n",
    "a.last"
   ]
  },
  {
   "cell_type": "code",
   "execution_count": 8,
   "metadata": {},
   "outputs": [
    {
     "data": {
      "text/plain": [
       "\u001b[36mres7_0\u001b[39m: \u001b[32mChar\u001b[39m = \u001b[32m'H'\u001b[39m\n",
       "\u001b[36mres7_1\u001b[39m: \u001b[32mChar\u001b[39m = \u001b[32m'o'\u001b[39m\n",
       "\u001b[36mres7_2\u001b[39m: \u001b[32mString\u001b[39m = \u001b[32m\"H\"\u001b[39m\n",
       "\u001b[36mres7_3\u001b[39m: \u001b[32mString\u001b[39m = \u001b[32m\"o\"\u001b[39m\n",
       "\u001b[36mres7_4\u001b[39m: \u001b[32mChar\u001b[39m = \u001b[32m'o'\u001b[39m\n",
       "\u001b[36mres7_5\u001b[39m: \u001b[32mChar\u001b[39m = \u001b[32m'o'\u001b[39m"
      ]
     },
     "execution_count": 8,
     "metadata": {},
     "output_type": "execute_result"
    }
   ],
   "source": [
    "// but check these too \n",
    "a(0)\n",
    "a(a.length - 1)\n",
    "a.take(1)\n",
    "a.takeRight(1)\n",
    "a.takeRight(1).toCharArray()(0)\n",
    "a.last"
   ]
  },
  {
   "cell_type": "code",
   "execution_count": 9,
   "metadata": {},
   "outputs": [
    {
     "data": {
      "text/plain": [
       "\u001b[36mres8_0\u001b[39m: \u001b[32mString\u001b[39m = \u001b[32m\"ello\"\u001b[39m\n",
       "\u001b[36mres8_1\u001b[39m: \u001b[32mString\u001b[39m = \u001b[32m\"Hell\"\u001b[39m"
      ]
     },
     "execution_count": 9,
     "metadata": {},
     "output_type": "execute_result"
    }
   ],
   "source": [
    "a.tail\n",
    "a.init"
   ]
  },
  {
   "cell_type": "markdown",
   "metadata": {},
   "source": [
    "### 10. What do the take , drop , takeRight , and dropRight string functions do? What advantage or disadvantage do they have over using substring ?\n",
    "\n",
    "https://stackoverflow.com/questions/31711837/drop-dropright-take-takeright-vs-substring"
   ]
  },
  {
   "cell_type": "code",
   "execution_count": 10,
   "metadata": {},
   "outputs": [
    {
     "data": {
      "text/plain": [
       "\u001b[36mres9_0\u001b[39m: \u001b[32mString\u001b[39m = \u001b[32m\"H\"\u001b[39m\n",
       "\u001b[36mres9_1\u001b[39m: \u001b[32mString\u001b[39m = \u001b[32m\"He\"\u001b[39m\n",
       "\u001b[36mres9_2\u001b[39m: \u001b[32mString\u001b[39m = \u001b[32m\"ello\"\u001b[39m\n",
       "\u001b[36mres9_3\u001b[39m: \u001b[32mString\u001b[39m = \u001b[32m\"llo\"\u001b[39m\n",
       "\u001b[36mres9_4\u001b[39m: \u001b[32mString\u001b[39m = \u001b[32m\"o\"\u001b[39m\n",
       "\u001b[36mres9_5\u001b[39m: \u001b[32mString\u001b[39m = \u001b[32m\"lo\"\u001b[39m\n",
       "\u001b[36mres9_6\u001b[39m: \u001b[32mString\u001b[39m = \u001b[32m\"Hell\"\u001b[39m\n",
       "\u001b[36mres9_7\u001b[39m: \u001b[32mString\u001b[39m = \u001b[32m\"Hel\"\u001b[39m"
      ]
     },
     "execution_count": 10,
     "metadata": {},
     "output_type": "execute_result"
    }
   ],
   "source": [
    "a.take(1)\n",
    "a.take(2)\n",
    "a.drop(1)\n",
    "a.drop(2)\n",
    "a.takeRight(1)\n",
    "a.takeRight(2)\n",
    "a.dropRight(1)\n",
    "a.dropRight(2)"
   ]
  }
 ],
 "metadata": {
  "kernelspec": {
   "display_name": "Scala",
   "language": "scala",
   "name": "scala"
  },
  "language_info": {
   "codemirror_mode": "text/x-scala",
   "file_extension": ".scala",
   "mimetype": "text/x-scala",
   "name": "scala",
   "nbconvert_exporter": "script",
   "version": "2.12.7"
  }
 },
 "nbformat": 4,
 "nbformat_minor": 2
}

{
 "cells": [
  {
   "cell_type": "markdown",
   "metadata": {},
   "source": [
    "### 1. The signum of a number is 1 if the number is positive, –1 if it is negative, and 0 if it is zero. Write a function that computes this value."
   ]
  },
  {
   "cell_type": "code",
   "execution_count": 1,
   "metadata": {},
   "outputs": [
    {
     "data": {
      "text/plain": [
       "defined \u001b[32mfunction\u001b[39m \u001b[36msignum\u001b[39m\n",
       "\u001b[36mres0_1\u001b[39m: \u001b[32mInt\u001b[39m = \u001b[32m0\u001b[39m\n",
       "\u001b[36mres0_2\u001b[39m: \u001b[32mInt\u001b[39m = \u001b[32m1\u001b[39m\n",
       "\u001b[36mres0_3\u001b[39m: \u001b[32mInt\u001b[39m = \u001b[32m1\u001b[39m\n",
       "\u001b[36mres0_4\u001b[39m: \u001b[32mInt\u001b[39m = \u001b[32m-1\u001b[39m\n",
       "\u001b[36mres0_5\u001b[39m: \u001b[32mInt\u001b[39m = \u001b[32m-1\u001b[39m"
      ]
     },
     "execution_count": 1,
     "metadata": {},
     "output_type": "execute_result"
    }
   ],
   "source": [
    "def signum(n: Double): Int = {\n",
    "  if (n > 0) 1\n",
    "  else if (n < 0) -1\n",
    "  else 0\n",
    "}\n",
    "\n",
    "signum(0)\n",
    "signum(1)\n",
    "signum(10)\n",
    "signum(-1)\n",
    "signum(-10)"
   ]
  },
  {
   "cell_type": "markdown",
   "metadata": {},
   "source": [
    "### 2. What is the value of an empty block expression {} ? What is its type?"
   ]
  },
  {
   "cell_type": "markdown",
   "metadata": {},
   "source": [
    "The value is `()`. The type is `Unit`."
   ]
  },
  {
   "cell_type": "markdown",
   "metadata": {},
   "source": [
    "### 3. Come up with one situation where the assignment x = y = 1 is valid in Scala. (Hint: Pick a suitable type for x .)"
   ]
  },
  {
   "cell_type": "code",
   "execution_count": 2,
   "metadata": {},
   "outputs": [
    {
     "name": "stdout",
     "output_type": "stream",
     "text": [
      "()"
     ]
    },
    {
     "data": {
      "text/plain": [
       "\u001b[36my\u001b[39m: \u001b[32mInt\u001b[39m = \u001b[32m1\u001b[39m\n",
       "\u001b[36mres1_3\u001b[39m: \u001b[32mInt\u001b[39m = \u001b[32m1\u001b[39m"
      ]
     },
     "execution_count": 2,
     "metadata": {},
     "output_type": "execute_result"
    }
   ],
   "source": [
    "var y: Int = 0\n",
    "var x: Unit = y = 1\n",
    "print(x)\n",
    "y"
   ]
  },
  {
   "cell_type": "markdown",
   "metadata": {},
   "source": [
    "### 4. Write a Scala equivalent for the Java loop for (int i = 10; i >= 0; i--) System.out.println(i);"
   ]
  },
  {
   "cell_type": "code",
   "execution_count": 3,
   "metadata": {},
   "outputs": [
    {
     "name": "stdout",
     "output_type": "stream",
     "text": [
      "10\n",
      "9\n",
      "8\n",
      "7\n",
      "6\n",
      "5\n",
      "4\n",
      "3\n",
      "2\n",
      "1\n",
      "0\n"
     ]
    }
   ],
   "source": [
    "for (i <- 10 to 0 by -1) println(i)"
   ]
  },
  {
   "cell_type": "markdown",
   "metadata": {},
   "source": [
    "### 5. Write a procedure countdown(n: Int) that prints the numbers from n to 0."
   ]
  },
  {
   "cell_type": "code",
   "execution_count": 4,
   "metadata": {},
   "outputs": [
    {
     "name": "stdout",
     "output_type": "stream",
     "text": [
      "3210\n",
      "252423222120191817161514131211109876543210\n"
     ]
    },
    {
     "data": {
      "text/plain": [
       "defined \u001b[32mfunction\u001b[39m \u001b[36mcountdown\u001b[39m"
      ]
     },
     "execution_count": 4,
     "metadata": {},
     "output_type": "execute_result"
    }
   ],
   "source": [
    "// procedure means no \"=\" in the function definition!\n",
    "def countdown(n: Int) {\n",
    "  for (i <- n to 0 by -1) print(i)\n",
    "  println()\n",
    "}\n",
    "\n",
    "countdown(3)\n",
    "countdown(25)"
   ]
  },
  {
   "cell_type": "markdown",
   "metadata": {},
   "source": [
    "### 6. Write a for loop for computing the product of the Unicode codes of all letters in a string. For example, the product of the characters in \"Hello\" is 9415087488L ."
   ]
  },
  {
   "cell_type": "code",
   "execution_count": 5,
   "metadata": {},
   "outputs": [
    {
     "data": {
      "text/plain": [
       "\u001b[36mword\u001b[39m: \u001b[32mString\u001b[39m = \u001b[32m\"Hello\"\u001b[39m\n",
       "\u001b[36mproduct\u001b[39m: \u001b[32mBigInt\u001b[39m = 9415087488"
      ]
     },
     "execution_count": 5,
     "metadata": {},
     "output_type": "execute_result"
    }
   ],
   "source": [
    "val word: String = \"Hello\"\n",
    "var product: BigInt = 1\n",
    "for (ch <- word) {\n",
    "  product *= ch\n",
    "}"
   ]
  },
  {
   "cell_type": "code",
   "execution_count": 6,
   "metadata": {},
   "outputs": [
    {
     "data": {
      "text/plain": [
       "\u001b[36mproduct\u001b[39m: \u001b[32mLong\u001b[39m = \u001b[32m9415087488L\u001b[39m"
      ]
     },
     "execution_count": 6,
     "metadata": {},
     "output_type": "execute_result"
    }
   ],
   "source": [
    "// We can also use a comprehension\n",
    "val product = (for (ch <- word) yield ch.toLong).product"
   ]
  },
  {
   "cell_type": "markdown",
   "metadata": {},
   "source": [
    "### 7. Solve the preceding exercise without writing a loop. (Hint: Look at the StringOps Scaladoc.)"
   ]
  },
  {
   "cell_type": "code",
   "execution_count": 7,
   "metadata": {},
   "outputs": [
    {
     "data": {
      "text/plain": [
       "\u001b[36mword\u001b[39m: \u001b[32mString\u001b[39m = \u001b[32m\"Hello\"\u001b[39m\n",
       "\u001b[36mproduct\u001b[39m: \u001b[32mLong\u001b[39m = \u001b[32m9415087488L\u001b[39m"
      ]
     },
     "execution_count": 7,
     "metadata": {},
     "output_type": "execute_result"
    }
   ],
   "source": [
    "val word: String = \"Hello\"\n",
    "val product = word.map(_.toLong).product"
   ]
  },
  {
   "cell_type": "markdown",
   "metadata": {},
   "source": [
    "### 8. Write a function product(s : String) that computes the product, as described in the preceding exercises."
   ]
  },
  {
   "cell_type": "code",
   "execution_count": 8,
   "metadata": {},
   "outputs": [
    {
     "data": {
      "text/plain": [
       "defined \u001b[32mfunction\u001b[39m \u001b[36mproduct\u001b[39m\n",
       "\u001b[36mres7_1\u001b[39m: \u001b[32mLong\u001b[39m = \u001b[32m9415087488L\u001b[39m\n",
       "\u001b[36mres7_2\u001b[39m: \u001b[32mLong\u001b[39m = \u001b[32m13599570816L\u001b[39m\n",
       "\u001b[36mres7_3\u001b[39m: \u001b[32mLong\u001b[39m = \u001b[32m94109400L\u001b[39m"
      ]
     },
     "execution_count": 8,
     "metadata": {},
     "output_type": "execute_result"
    }
   ],
   "source": [
    "def product(word: String): Long = {\n",
    "  word.map(_.toLong).product\n",
    "}\n",
    "product(\"Hello\")\n",
    "product(\"hello\")\n",
    "product(\"abcd\")"
   ]
  },
  {
   "cell_type": "markdown",
   "metadata": {},
   "source": [
    "### 9. Make the function of the preceding exercise a recursive function."
   ]
  },
  {
   "cell_type": "code",
   "execution_count": 9,
   "metadata": {},
   "outputs": [
    {
     "data": {
      "text/plain": [
       "defined \u001b[32mfunction\u001b[39m \u001b[36mproductr\u001b[39m\n",
       "\u001b[36mres8_1\u001b[39m: \u001b[32mLong\u001b[39m = \u001b[32m9415087488L\u001b[39m\n",
       "\u001b[36mres8_2\u001b[39m: \u001b[32mLong\u001b[39m = \u001b[32m13599570816L\u001b[39m\n",
       "\u001b[36mres8_3\u001b[39m: \u001b[32mLong\u001b[39m = \u001b[32m113781000L\u001b[39m"
      ]
     },
     "execution_count": 9,
     "metadata": {},
     "output_type": "execute_result"
    }
   ],
   "source": [
    "def productr(word: String): Long = {\n",
    "  if (word.length == 1) word.head.toLong\n",
    "  else word.head.toLong * productr(word.tail)\n",
    "}\n",
    "productr(\"Hello\")\n",
    "productr(\"hello\")\n",
    "productr(\"asdf\")"
   ]
  },
  {
   "cell_type": "markdown",
   "metadata": {},
   "source": [
    "### 10. Write a function that computes x n , where n is an integer. \n",
    "\n",
    "Use the following recursive definition:\n",
    "\n",
    "```\n",
    "• x n = y · y if n is even and positive, where y = x ^ (n / 2) .\n",
    "• x n = x · x ^ (n – 1) if n is odd and positive.\n",
    "• x 0 = 1.\n",
    "• x n = 1 / x ^ (–n) if n is negative.\n",
    "```\n",
    "\n",
    "Don’t use a return statement."
   ]
  },
  {
   "cell_type": "code",
   "execution_count": 10,
   "metadata": {},
   "outputs": [
    {
     "data": {
      "text/plain": [
       "defined \u001b[32mfunction\u001b[39m \u001b[36mmyPow\u001b[39m\n",
       "\u001b[36mres9_1\u001b[39m: \u001b[32mDouble\u001b[39m = \u001b[32m4.0\u001b[39m\n",
       "\u001b[36mres9_2\u001b[39m: \u001b[32mDouble\u001b[39m = \u001b[32m2.0\u001b[39m\n",
       "\u001b[36mres9_3\u001b[39m: \u001b[32mDouble\u001b[39m = \u001b[32m1.0\u001b[39m\n",
       "\u001b[36mres9_4\u001b[39m: \u001b[32mDouble\u001b[39m = \u001b[32m0.5\u001b[39m\n",
       "\u001b[36mres9_5\u001b[39m: \u001b[32mDouble\u001b[39m = \u001b[32m0.25\u001b[39m\n",
       "\u001b[36mres9_6\u001b[39m: \u001b[32mDouble\u001b[39m = \u001b[32m1024.0\u001b[39m\n",
       "\u001b[36mres9_7\u001b[39m: \u001b[32mDouble\u001b[39m = \u001b[32m1048576.0\u001b[39m"
      ]
     },
     "execution_count": 10,
     "metadata": {},
     "output_type": "execute_result"
    }
   ],
   "source": [
    "def myPow(x: Double, n: Int): Double = {\n",
    "  if (n > 0) {\n",
    "    if (n % 2 == 0) {\n",
    "      val y = myPow(x, n / 2)\n",
    "      y * y\n",
    "    } else {\n",
    "      x * myPow(x, n - 1)\n",
    "    }\n",
    "  } else if (n == 0) {\n",
    "    1\n",
    "  } else {\n",
    "    1 / myPow(x, -n)\n",
    "  }\n",
    "}\n",
    "\n",
    "myPow(2, 2)\n",
    "myPow(2, 1)\n",
    "myPow(2, 0)\n",
    "myPow(2, -1)\n",
    "myPow(2, -2)\n",
    "myPow(2, 10)\n",
    "myPow(2, 20)"
   ]
  },
  {
   "cell_type": "code",
   "execution_count": 11,
   "metadata": {
    "scrolled": false
   },
   "outputs": [
    {
     "data": {
      "text/plain": [
       "defined \u001b[32mfunction\u001b[39m \u001b[36mmypow\u001b[39m\n",
       "\u001b[36mres10_1\u001b[39m: \u001b[32mDouble\u001b[39m = \u001b[32m4.0\u001b[39m\n",
       "\u001b[36mres10_2\u001b[39m: \u001b[32mDouble\u001b[39m = \u001b[32m2.0\u001b[39m\n",
       "\u001b[36mres10_3\u001b[39m: \u001b[32mDouble\u001b[39m = \u001b[32m1.0\u001b[39m\n",
       "\u001b[36mres10_4\u001b[39m: \u001b[32mDouble\u001b[39m = \u001b[32m0.5\u001b[39m\n",
       "\u001b[36mres10_5\u001b[39m: \u001b[32mDouble\u001b[39m = \u001b[32m0.25\u001b[39m\n",
       "\u001b[36mres10_6\u001b[39m: \u001b[32mDouble\u001b[39m = \u001b[32m1024.0\u001b[39m\n",
       "\u001b[36mres10_7\u001b[39m: \u001b[32mDouble\u001b[39m = \u001b[32m1048576.0\u001b[39m"
      ]
     },
     "execution_count": 11,
     "metadata": {},
     "output_type": "execute_result"
    }
   ],
   "source": [
    "def mypow(x: Double, n: Int): Double = {\n",
    "  n match {\n",
    "    case n if ((n > 0) && (n % 2 == 0)) => var y = mypow(x, n / 2); y * y\n",
    "    case n if ((n > 0)) => x * mypow(x, n - 1)\n",
    "    case 0 => 1\n",
    "    case _ => 1 / mypow(x, -n)\n",
    "  }\n",
    "}\n",
    "\n",
    "mypow(2, 2)\n",
    "mypow(2, 1)\n",
    "mypow(2, 0)\n",
    "mypow(2, -1)\n",
    "mypow(2, -2)\n",
    "mypow(2, 10)\n",
    "mypow(2, 20)"
   ]
  },
  {
   "cell_type": "markdown",
   "metadata": {},
   "source": [
    "### 11. Define a string interpolator date so that you can define a java.time.LocalDate as date\"$year-$month-$day\" .\n",
    "\n",
    "You need to define an “implicit” class with a date method, like this:\n",
    "\n",
    "``` java\n",
    "implicit class DateInterpolator(val sc: StringContext) extends AnyVal {\n",
    "def date(args: Any*): LocalDate = . . .\n",
    "}\n",
    "```\n",
    "\n",
    "args(i) is the value of the i th expression. Convert each to a string and then to\n",
    "an integer, and pass them to the LocalDate.of method. If you already know\n",
    "some Scala, add error handling. Throw an exception if there aren’t three\n",
    "arguments, or if they aren’t integers, or if they aren’t separated by dashes.\n",
    "(You get the strings in between the expressions as sc.parts .)"
   ]
  },
  {
   "cell_type": "code",
   "execution_count": null,
   "metadata": {},
   "outputs": [],
   "source": []
  }
 ],
 "metadata": {
  "kernelspec": {
   "display_name": "Scala",
   "language": "scala",
   "name": "scala"
  },
  "language_info": {
   "codemirror_mode": "text/x-scala",
   "file_extension": ".scala",
   "mimetype": "text/x-scala",
   "name": "scala",
   "nbconvert_exporter": "script",
   "version": "2.12.7"
  }
 },
 "nbformat": 4,
 "nbformat_minor": 2
}

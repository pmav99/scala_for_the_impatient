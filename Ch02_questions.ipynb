{
 "cells": [
  {
   "cell_type": "markdown",
   "metadata": {},
   "source": [
    "### 1. The signum of a number is 1 if the number is positive, –1 if it is negative, and 0 if it is zero. Write a function that computes this value."
   ]
  },
  {
   "cell_type": "code",
   "execution_count": null,
   "metadata": {},
   "outputs": [],
   "source": []
  },
  {
   "cell_type": "markdown",
   "metadata": {},
   "source": [
    "### 2. What is the value of an empty block expression {} ? What is its type?"
   ]
  },
  {
   "cell_type": "code",
   "execution_count": null,
   "metadata": {},
   "outputs": [],
   "source": []
  },
  {
   "cell_type": "markdown",
   "metadata": {},
   "source": [
    "### 3. Come up with one situation where the assignment x = y = 1 is valid in Scala. (Hint: Pick a suitable type for x .)"
   ]
  },
  {
   "cell_type": "code",
   "execution_count": null,
   "metadata": {},
   "outputs": [],
   "source": []
  },
  {
   "cell_type": "markdown",
   "metadata": {},
   "source": [
    "### 4. Write a Scala equivalent for the Java loop for (int i = 10; i >= 0; i--) System.out.println(i);"
   ]
  },
  {
   "cell_type": "code",
   "execution_count": null,
   "metadata": {},
   "outputs": [],
   "source": []
  },
  {
   "cell_type": "markdown",
   "metadata": {},
   "source": [
    "### 5. Write a procedure countdown(n: Int) that prints the numbers from n to 0."
   ]
  },
  {
   "cell_type": "code",
   "execution_count": null,
   "metadata": {},
   "outputs": [],
   "source": []
  },
  {
   "cell_type": "markdown",
   "metadata": {},
   "source": [
    "### 6. Write a for loop for computing the product of the Unicode codes of all letters in a string. For example, the product of the characters in \"Hello\" is 9415087488L ."
   ]
  },
  {
   "cell_type": "code",
   "execution_count": null,
   "metadata": {},
   "outputs": [],
   "source": []
  },
  {
   "cell_type": "markdown",
   "metadata": {},
   "source": [
    "### 7. Solve the preceding exercise without writing a loop. (Hint: Look at the StringOps Scaladoc.)"
   ]
  },
  {
   "cell_type": "code",
   "execution_count": null,
   "metadata": {},
   "outputs": [],
   "source": []
  },
  {
   "cell_type": "markdown",
   "metadata": {},
   "source": [
    "### 8. Write a function product(s : String) that computes the product, as described in the preceding exercises."
   ]
  },
  {
   "cell_type": "code",
   "execution_count": null,
   "metadata": {},
   "outputs": [],
   "source": []
  },
  {
   "cell_type": "markdown",
   "metadata": {},
   "source": [
    "### 9. Make the function of the preceding exercise a recursive function."
   ]
  },
  {
   "cell_type": "code",
   "execution_count": null,
   "metadata": {},
   "outputs": [],
   "source": []
  },
  {
   "cell_type": "markdown",
   "metadata": {},
   "source": [
    "### 10. Write a function that computes x n , where n is an integer. \n",
    "\n",
    "Use the following recursive definition:\n",
    "\n",
    "```\n",
    "• x n = y · y if n is even and positive, where y = x n / 2 .\n",
    "• x n = x · x n – 1 if n is odd and positive.\n",
    "• x 0 = 1.\n",
    "• x n = 1 / x –n if n is negative.\n",
    "```\n",
    "\n",
    "Don’t use a return statement."
   ]
  },
  {
   "cell_type": "code",
   "execution_count": null,
   "metadata": {},
   "outputs": [],
   "source": []
  },
  {
   "cell_type": "markdown",
   "metadata": {},
   "source": [
    "### 11. Define a string interpolator date so that you can define a java.time.LocalDate as date\"$year-$month-$day\" .\n",
    "\n",
    "You need to define an “implicit” class with a date method, like this:\n",
    "\n",
    "``` java\n",
    "implicit class DateInterpolator(val sc: StringContext) extends AnyVal {\n",
    "def date(args: Any*): LocalDate = . . .\n",
    "}\n",
    "```\n",
    "\n",
    "args(i) is the value of the i th expression. Convert each to a string and then to\n",
    "an integer, and pass them to the LocalDate.of method. If you already know\n",
    "some Scala, add error handling. Throw an exception if there aren’t three\n",
    "arguments, or if they aren’t integers, or if they aren’t separated by dashes.\n",
    "(You get the strings in between the expressions as sc.parts .)"
   ]
  },
  {
   "cell_type": "code",
   "execution_count": null,
   "metadata": {},
   "outputs": [],
   "source": []
  }
 ],
 "metadata": {
  "kernelspec": {
   "display_name": "Scala",
   "language": "scala",
   "name": "scala"
  },
  "language_info": {
   "codemirror_mode": "text/x-scala",
   "file_extension": ".scala",
   "mimetype": "text/x-scala",
   "name": "scala",
   "nbconvert_exporter": "script",
   "version": "2.12.7"
  }
 },
 "nbformat": 4,
 "nbformat_minor": 2
}
